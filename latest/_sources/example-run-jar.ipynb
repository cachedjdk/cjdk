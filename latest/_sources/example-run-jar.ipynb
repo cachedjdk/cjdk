{
 "cells": [
  {
   "cell_type": "markdown",
   "id": "5c7de519",
   "metadata": {},
   "source": [
    "<!--\n",
    "This file is part of cjdk.\n",
    "Copyright 2022 Board of Regents of the University of Wisconsin System\n",
    "SPDX-License-Identifier: MIT\n",
    "--->\n",
    "\n",
    "# Running an application distributed as an all-in-one Jar\n",
    "\n",
    "This example shows how to use the `cjdk.cache_file()` function to download an\n",
    "application Jar and run it with the desired JDK.\n",
    "\n",
    "We will use the [Checkstyle](https://checkstyle.org/) program (a Java linter)\n",
    "as an example."
   ]
  },
  {
   "cell_type": "code",
   "execution_count": 1,
   "id": "3a54fdd4",
   "metadata": {},
   "outputs": [],
   "source": [
    "import cjdk\n",
    "import subprocess"
   ]
  },
  {
   "cell_type": "code",
   "execution_count": 2,
   "id": "7db27ac9",
   "metadata": {},
   "outputs": [],
   "source": [
    "java_source = \"\"\"\n",
    "public class Hello {\n",
    "    public static void main(String[] args) {\n",
    "        System.out.println(\"Hello, World!\");\n",
    "    }\n",
    "}\n",
    "\"\"\""
   ]
  },
  {
   "cell_type": "code",
   "execution_count": 3,
   "id": "c2fbf915",
   "metadata": {},
   "outputs": [],
   "source": [
    "with open(\"Hello.java\", \"w\") as fp:\n",
    "    fp.write(java_source)"
   ]
  },
  {
   "cell_type": "code",
   "execution_count": 4,
   "id": "1b1fbad3",
   "metadata": {},
   "outputs": [],
   "source": [
    "checkstyle_url = \"https://github.com/checkstyle/checkstyle/releases/download/checkstyle-10.3.1/checkstyle-10.3.1-all.jar\""
   ]
  },
  {
   "cell_type": "markdown",
   "id": "4a281a94",
   "metadata": {},
   "source": [
    "The following will download the Jar the first time it is run, and place it in\n",
    "the **cjdk** cache directory."
   ]
  },
  {
   "cell_type": "code",
   "execution_count": 5,
   "id": "c149c289",
   "metadata": {},
   "outputs": [
    {
     "name": "stderr",
     "output_type": "stream",
     "text": [
      "cjdk: Installing Checkstyle to /home/runner/.cache/cjdk\n"
     ]
    }
   ],
   "source": [
    "checkstyle_path = cjdk.cache_file(\n",
    "    \"Checkstyle\", checkstyle_url, \"checkstyle-all.jar\"\n",
    ")"
   ]
  },
  {
   "cell_type": "markdown",
   "id": "f09f9841",
   "metadata": {},
   "source": [
    "Now we will run Checkstyle, with a JDK that is downloaded if needed."
   ]
  },
  {
   "cell_type": "code",
   "execution_count": 6,
   "id": "ba4058ca",
   "metadata": {},
   "outputs": [
    {
     "name": "stdout",
     "output_type": "stream",
     "text": [
      "Starting audit...\n",
      "[WARN] /tmp/tmps4pf70qx/Hello.java:2:1: Missing a Javadoc comment. [MissingJavadocType]\n",
      "[WARN] /tmp/tmps4pf70qx/Hello.java:3:5: 'method def modifier' has incorrect indentation level 4, expected level should be 2. [Indentation]\n",
      "[WARN] /tmp/tmps4pf70qx/Hello.java:4:9: 'method def' child has incorrect indentation level 8, expected level should be 4. [Indentation]\n",
      "[WARN] /tmp/tmps4pf70qx/Hello.java:5:5: 'method def rcurly' has incorrect indentation level 4, expected level should be 2. [Indentation]\n",
      "Audit done.\n"
     ]
    }
   ],
   "source": [
    "with cjdk.java_env(vendor=\"temurin-jre\", version=\"17.0.3\"):\n",
    "    subprocess.run(\n",
    "        [\n",
    "            \"java\",\n",
    "            \"-jar\", str(checkstyle_path),\n",
    "            \"-c\", \"/google_checks.xml\",\n",
    "            \"Hello.java\",\n",
    "        ]\n",
    "    )"
   ]
  },
  {
   "cell_type": "markdown",
   "id": "e92c82b3",
   "metadata": {},
   "source": [
    "Checkstyle has pointed out that our example code is missing documentation\n",
    "comments and does not conform to the indentation rules defined in\n",
    "`google_checks.xml` (which is included in the Checkstyle Jar)."
   ]
  }
 ],
 "metadata": {
  "jupytext": {
   "text_representation": {
    "extension": ".md",
    "format_name": "myst",
    "format_version": 0.13,
    "jupytext_version": "1.13.8"
   }
  },
  "kernelspec": {
   "display_name": "Python 3 (ipykernel)",
   "language": "python",
   "name": "python3"
  },
  "language_info": {
   "codemirror_mode": {
    "name": "ipython",
    "version": 3
   },
   "file_extension": ".py",
   "mimetype": "text/x-python",
   "name": "python",
   "nbconvert_exporter": "python",
   "pygments_lexer": "ipython3",
   "version": "3.10.5"
  },
  "source_map": [
   12,
   28,
   33,
   43,
   48,
   50,
   55,
   59,
   63,
   73
  ]
 },
 "nbformat": 4,
 "nbformat_minor": 5
}