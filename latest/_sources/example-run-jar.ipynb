{
 "cells": [
  {
   "cell_type": "markdown",
   "id": "35aa16c8",
   "metadata": {},
   "source": [
    "<!--\n",
    "This file is part of cjdk.\n",
    "Copyright 2022, Board of Regents of the University of Wisconsin System\n",
    "SPDX-License-Identifier: MIT\n",
    "--->\n",
    "\n",
    "# Running an application distributed as an all-in-one Jar\n",
    "\n",
    "This example shows how to use the `cjdk.cache_file()` function to download an\n",
    "application Jar and run it with the desired JDK.\n",
    "\n",
    "We will use the [CheckStyle](https://checkstyle.org/) program (a Java linter)\n",
    "as an example."
   ]
  },
  {
   "cell_type": "code",
   "execution_count": 1,
   "id": "c8955b75",
   "metadata": {},
   "outputs": [],
   "source": [
    "import cjdk\n",
    "import subprocess"
   ]
  },
  {
   "cell_type": "code",
   "execution_count": 2,
   "id": "bd59d747",
   "metadata": {},
   "outputs": [],
   "source": [
    "java_source = \"\"\"\n",
    "public class Hello {\n",
    "    public static void main(String[] args) {\n",
    "        System.out.println(\"Hello, World!\");\n",
    "    }\n",
    "}\n",
    "\"\"\""
   ]
  },
  {
   "cell_type": "code",
   "execution_count": 3,
   "id": "d2a9944d",
   "metadata": {},
   "outputs": [],
   "source": [
    "with open(\"Hello.java\", \"w\") as fp:\n",
    "    fp.write(java_source)"
   ]
  },
  {
   "cell_type": "code",
   "execution_count": 4,
   "id": "236ae681",
   "metadata": {},
   "outputs": [],
   "source": [
    "checkstyle_url = \"https://github.com/checkstyle/checkstyle/releases/download/checkstyle-10.3.1/checkstyle-10.3.1-all.jar\""
   ]
  },
  {
   "cell_type": "markdown",
   "id": "c12f4b8a",
   "metadata": {},
   "source": [
    "The following will download the Jar the first time it is run, and place it in\n",
    "the **cjdk** cache directory."
   ]
  },
  {
   "cell_type": "code",
   "execution_count": 5,
   "id": "fbf677da",
   "metadata": {},
   "outputs": [
    {
     "name": "stderr",
     "output_type": "stream",
     "text": [
      "cjdk: Installing CheckStyle to /home/runner/.cache/cjdk\n"
     ]
    },
    {
     "data": {
      "application/vnd.jupyter.widget-view+json": {
       "model_id": "c78e3521f0df4e199306f23837360c5f",
       "version_major": 2,
       "version_minor": 0
      },
      "text/plain": [
       "Downloading:   0%|          | 0.00/15.4M [00:00<?, ?B/s]"
      ]
     },
     "metadata": {},
     "output_type": "display_data"
    }
   ],
   "source": [
    "checkstyle_path = cjdk.cache_file(\n",
    "    \"CheckStyle\", checkstyle_url, \"checkstyle-all.jar\"\n",
    ")"
   ]
  },
  {
   "cell_type": "markdown",
   "id": "03777ab3",
   "metadata": {},
   "source": [
    "Now we will run CheckStyle, with a JDK that is downloaded if needed."
   ]
  },
  {
   "cell_type": "code",
   "execution_count": 6,
   "id": "593d0b96",
   "metadata": {},
   "outputs": [
    {
     "name": "stdout",
     "output_type": "stream",
     "text": [
      "Starting audit...\n"
     ]
    },
    {
     "name": "stdout",
     "output_type": "stream",
     "text": [
      "[WARN] /tmp/tmp0pzvvsru/Hello.java:2:1: Missing a Javadoc comment. [MissingJavadocType]\n",
      "[WARN] /tmp/tmp0pzvvsru/Hello.java:3:5: 'method def modifier' has incorrect indentation level 4, expected level should be 2. [Indentation]\n",
      "[WARN] /tmp/tmp0pzvvsru/Hello.java:4:9: 'method def' child has incorrect indentation level 8, expected level should be 4. [Indentation]\n",
      "[WARN] /tmp/tmp0pzvvsru/Hello.java:5:5: 'method def rcurly' has incorrect indentation level 4, expected level should be 2. [Indentation]\n",
      "Audit done.\n"
     ]
    }
   ],
   "source": [
    "with cjdk.java_env(vendor=\"temurin-jre\", version=\"17.0.3\"):\n",
    "    subprocess.run(\n",
    "        [\n",
    "            \"java\",\n",
    "            \"-jar\", str(checkstyle_path),\n",
    "            \"-c\", \"/google_checks.xml\",\n",
    "            \"Hello.java\",\n",
    "        ]\n",
    "    )"
   ]
  },
  {
   "cell_type": "markdown",
   "id": "7f623f62",
   "metadata": {},
   "source": [
    "CheckStyle has pointed out that our example code is missing documentation\n",
    "comments and does not conform to the indentation rules defined in\n",
    "`google_checks.xml` (which is included in the CheckStyle Jar)."
   ]
  }
 ],
 "metadata": {
  "jupytext": {
   "text_representation": {
    "extension": ".md",
    "format_name": "myst",
    "format_version": 0.13,
    "jupytext_version": "1.13.8"
   }
  },
  "kernelspec": {
   "display_name": "Python 3 (ipykernel)",
   "language": "python",
   "name": "python3"
  },
  "language_info": {
   "codemirror_mode": {
    "name": "ipython",
    "version": 3
   },
   "file_extension": ".py",
   "mimetype": "text/x-python",
   "name": "python",
   "nbconvert_exporter": "python",
   "pygments_lexer": "ipython3",
   "version": "3.10.5"
  },
  "source_map": [
   12,
   28,
   33,
   43,
   48,
   50,
   55,
   59,
   63,
   73
  ],
  "widgets": {
   "application/vnd.jupyter.widget-state+json": {
    "state": {
     "029a4fdafbf047eabfd75216681fc369": {
      "model_module": "@jupyter-widgets/controls",
      "model_module_version": "1.5.0",
      "model_name": "FloatProgressModel",
      "state": {
       "_dom_classes": [],
       "_model_module": "@jupyter-widgets/controls",
       "_model_module_version": "1.5.0",
       "_model_name": "FloatProgressModel",
       "_view_count": null,
       "_view_module": "@jupyter-widgets/controls",
       "_view_module_version": "1.5.0",
       "_view_name": "ProgressView",
       "bar_style": "success",
       "description": "",
       "description_tooltip": null,
       "layout": "IPY_MODEL_27b0b7c89fdd4f5690c2b18e8b418290",
       "max": 15396315.0,
       "min": 0.0,
       "orientation": "horizontal",
       "style": "IPY_MODEL_b0127ccaed00440dbb7ea760a2fba738",
       "value": 15396315.0
      }
     },
     "19233d0730e145a280fdb6d8d5913ec3": {
      "model_module": "@jupyter-widgets/base",
      "model_module_version": "1.2.0",
      "model_name": "LayoutModel",
      "state": {
       "_model_module": "@jupyter-widgets/base",
       "_model_module_version": "1.2.0",
       "_model_name": "LayoutModel",
       "_view_count": null,
       "_view_module": "@jupyter-widgets/base",
       "_view_module_version": "1.2.0",
       "_view_name": "LayoutView",
       "align_content": null,
       "align_items": null,
       "align_self": null,
       "border": null,
       "bottom": null,
       "display": null,
       "flex": null,
       "flex_flow": null,
       "grid_area": null,
       "grid_auto_columns": null,
       "grid_auto_flow": null,
       "grid_auto_rows": null,
       "grid_column": null,
       "grid_gap": null,
       "grid_row": null,
       "grid_template_areas": null,
       "grid_template_columns": null,
       "grid_template_rows": null,
       "height": null,
       "justify_content": null,
       "justify_items": null,
       "left": null,
       "margin": null,
       "max_height": null,
       "max_width": null,
       "min_height": null,
       "min_width": null,
       "object_fit": null,
       "object_position": null,
       "order": null,
       "overflow": null,
       "overflow_x": null,
       "overflow_y": null,
       "padding": null,
       "right": null,
       "top": null,
       "visibility": null,
       "width": null
      }
     },
     "27b0b7c89fdd4f5690c2b18e8b418290": {
      "model_module": "@jupyter-widgets/base",
      "model_module_version": "1.2.0",
      "model_name": "LayoutModel",
      "state": {
       "_model_module": "@jupyter-widgets/base",
       "_model_module_version": "1.2.0",
       "_model_name": "LayoutModel",
       "_view_count": null,
       "_view_module": "@jupyter-widgets/base",
       "_view_module_version": "1.2.0",
       "_view_name": "LayoutView",
       "align_content": null,
       "align_items": null,
       "align_self": null,
       "border": null,
       "bottom": null,
       "display": null,
       "flex": null,
       "flex_flow": null,
       "grid_area": null,
       "grid_auto_columns": null,
       "grid_auto_flow": null,
       "grid_auto_rows": null,
       "grid_column": null,
       "grid_gap": null,
       "grid_row": null,
       "grid_template_areas": null,
       "grid_template_columns": null,
       "grid_template_rows": null,
       "height": null,
       "justify_content": null,
       "justify_items": null,
       "left": null,
       "margin": null,
       "max_height": null,
       "max_width": null,
       "min_height": null,
       "min_width": null,
       "object_fit": null,
       "object_position": null,
       "order": null,
       "overflow": null,
       "overflow_x": null,
       "overflow_y": null,
       "padding": null,
       "right": null,
       "top": null,
       "visibility": null,
       "width": null
      }
     },
     "33abdc056a9741e59bc4d91b2d125866": {
      "model_module": "@jupyter-widgets/base",
      "model_module_version": "1.2.0",
      "model_name": "LayoutModel",
      "state": {
       "_model_module": "@jupyter-widgets/base",
       "_model_module_version": "1.2.0",
       "_model_name": "LayoutModel",
       "_view_count": null,
       "_view_module": "@jupyter-widgets/base",
       "_view_module_version": "1.2.0",
       "_view_name": "LayoutView",
       "align_content": null,
       "align_items": null,
       "align_self": null,
       "border": null,
       "bottom": null,
       "display": null,
       "flex": null,
       "flex_flow": null,
       "grid_area": null,
       "grid_auto_columns": null,
       "grid_auto_flow": null,
       "grid_auto_rows": null,
       "grid_column": null,
       "grid_gap": null,
       "grid_row": null,
       "grid_template_areas": null,
       "grid_template_columns": null,
       "grid_template_rows": null,
       "height": null,
       "justify_content": null,
       "justify_items": null,
       "left": null,
       "margin": null,
       "max_height": null,
       "max_width": null,
       "min_height": null,
       "min_width": null,
       "object_fit": null,
       "object_position": null,
       "order": null,
       "overflow": null,
       "overflow_x": null,
       "overflow_y": null,
       "padding": null,
       "right": null,
       "top": null,
       "visibility": null,
       "width": null
      }
     },
     "3cc7e46c97c54e13adc4ae8f872cf9ef": {
      "model_module": "@jupyter-widgets/controls",
      "model_module_version": "1.5.0",
      "model_name": "HTMLModel",
      "state": {
       "_dom_classes": [],
       "_model_module": "@jupyter-widgets/controls",
       "_model_module_version": "1.5.0",
       "_model_name": "HTMLModel",
       "_view_count": null,
       "_view_module": "@jupyter-widgets/controls",
       "_view_module_version": "1.5.0",
       "_view_name": "HTMLView",
       "description": "",
       "description_tooltip": null,
       "layout": "IPY_MODEL_c2ab51c717a24439abaa3206fa8fa863",
       "placeholder": "​",
       "style": "IPY_MODEL_ccbe028db0334ee9b3d44b565bf24b11",
       "value": "Downloading: 100%"
      }
     },
     "b0127ccaed00440dbb7ea760a2fba738": {
      "model_module": "@jupyter-widgets/controls",
      "model_module_version": "1.5.0",
      "model_name": "ProgressStyleModel",
      "state": {
       "_model_module": "@jupyter-widgets/controls",
       "_model_module_version": "1.5.0",
       "_model_name": "ProgressStyleModel",
       "_view_count": null,
       "_view_module": "@jupyter-widgets/base",
       "_view_module_version": "1.2.0",
       "_view_name": "StyleView",
       "bar_color": null,
       "description_width": ""
      }
     },
     "c00b329b803f4541a0e5aae279769de5": {
      "model_module": "@jupyter-widgets/controls",
      "model_module_version": "1.5.0",
      "model_name": "DescriptionStyleModel",
      "state": {
       "_model_module": "@jupyter-widgets/controls",
       "_model_module_version": "1.5.0",
       "_model_name": "DescriptionStyleModel",
       "_view_count": null,
       "_view_module": "@jupyter-widgets/base",
       "_view_module_version": "1.2.0",
       "_view_name": "StyleView",
       "description_width": ""
      }
     },
     "c2ab51c717a24439abaa3206fa8fa863": {
      "model_module": "@jupyter-widgets/base",
      "model_module_version": "1.2.0",
      "model_name": "LayoutModel",
      "state": {
       "_model_module": "@jupyter-widgets/base",
       "_model_module_version": "1.2.0",
       "_model_name": "LayoutModel",
       "_view_count": null,
       "_view_module": "@jupyter-widgets/base",
       "_view_module_version": "1.2.0",
       "_view_name": "LayoutView",
       "align_content": null,
       "align_items": null,
       "align_self": null,
       "border": null,
       "bottom": null,
       "display": null,
       "flex": null,
       "flex_flow": null,
       "grid_area": null,
       "grid_auto_columns": null,
       "grid_auto_flow": null,
       "grid_auto_rows": null,
       "grid_column": null,
       "grid_gap": null,
       "grid_row": null,
       "grid_template_areas": null,
       "grid_template_columns": null,
       "grid_template_rows": null,
       "height": null,
       "justify_content": null,
       "justify_items": null,
       "left": null,
       "margin": null,
       "max_height": null,
       "max_width": null,
       "min_height": null,
       "min_width": null,
       "object_fit": null,
       "object_position": null,
       "order": null,
       "overflow": null,
       "overflow_x": null,
       "overflow_y": null,
       "padding": null,
       "right": null,
       "top": null,
       "visibility": null,
       "width": null
      }
     },
     "c78e3521f0df4e199306f23837360c5f": {
      "model_module": "@jupyter-widgets/controls",
      "model_module_version": "1.5.0",
      "model_name": "HBoxModel",
      "state": {
       "_dom_classes": [],
       "_model_module": "@jupyter-widgets/controls",
       "_model_module_version": "1.5.0",
       "_model_name": "HBoxModel",
       "_view_count": null,
       "_view_module": "@jupyter-widgets/controls",
       "_view_module_version": "1.5.0",
       "_view_name": "HBoxView",
       "box_style": "",
       "children": [
        "IPY_MODEL_3cc7e46c97c54e13adc4ae8f872cf9ef",
        "IPY_MODEL_029a4fdafbf047eabfd75216681fc369",
        "IPY_MODEL_cb6afc168dbf4cbfb3dc2a261eadf565"
       ],
       "layout": "IPY_MODEL_19233d0730e145a280fdb6d8d5913ec3"
      }
     },
     "cb6afc168dbf4cbfb3dc2a261eadf565": {
      "model_module": "@jupyter-widgets/controls",
      "model_module_version": "1.5.0",
      "model_name": "HTMLModel",
      "state": {
       "_dom_classes": [],
       "_model_module": "@jupyter-widgets/controls",
       "_model_module_version": "1.5.0",
       "_model_name": "HTMLModel",
       "_view_count": null,
       "_view_module": "@jupyter-widgets/controls",
       "_view_module_version": "1.5.0",
       "_view_name": "HTMLView",
       "description": "",
       "description_tooltip": null,
       "layout": "IPY_MODEL_33abdc056a9741e59bc4d91b2d125866",
       "placeholder": "​",
       "style": "IPY_MODEL_c00b329b803f4541a0e5aae279769de5",
       "value": " 15.4M/15.4M [00:01&lt;00:00, 17.9MB/s]"
      }
     },
     "ccbe028db0334ee9b3d44b565bf24b11": {
      "model_module": "@jupyter-widgets/controls",
      "model_module_version": "1.5.0",
      "model_name": "DescriptionStyleModel",
      "state": {
       "_model_module": "@jupyter-widgets/controls",
       "_model_module_version": "1.5.0",
       "_model_name": "DescriptionStyleModel",
       "_view_count": null,
       "_view_module": "@jupyter-widgets/base",
       "_view_module_version": "1.2.0",
       "_view_name": "StyleView",
       "description_width": ""
      }
     }
    },
    "version_major": 2,
    "version_minor": 0
   }
  }
 },
 "nbformat": 4,
 "nbformat_minor": 5
}