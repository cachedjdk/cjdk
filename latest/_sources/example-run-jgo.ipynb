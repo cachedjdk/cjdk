{
 "cells": [
  {
   "cell_type": "markdown",
   "id": "ac644181",
   "metadata": {},
   "source": [
    "<!--\n",
    "This file is part of cjdk.\n",
    "Copyright 2022 Board of Regents of the University of Wisconsin System\n",
    "SPDX-License-Identifier: MIT\n",
    "--->\n",
    "\n",
    "# Running Java applications with jgo\n",
    "\n",
    "This example shows how to run an arbitrary package available from a Maven\n",
    "repository using [**jgo**](https://github.com/scijava/jgo)."
   ]
  },
  {
   "cell_type": "code",
   "execution_count": 1,
   "id": "660d077b",
   "metadata": {},
   "outputs": [],
   "source": [
    "import cjdk\n",
    "import jgo\n",
    "import os\n",
    "from contextlib import contextmanager"
   ]
  },
  {
   "cell_type": "markdown",
   "id": "96ac0154",
   "metadata": {},
   "source": [
    "**jgo** requires Apache Maven, so we'll install that first:"
   ]
  },
  {
   "cell_type": "code",
   "execution_count": 2,
   "id": "4ed9ecd8",
   "metadata": {},
   "outputs": [],
   "source": [
    "# From https://maven.apache.org/download.html\n",
    "maven_url = \"tgz+https://dlcdn.apache.org/maven/maven-3/3.8.6/binaries/apache-maven-3.8.6-bin.tar.gz\"\n",
    "maven_sha512 = \"f790857f3b1f90ae8d16281f902c689e4f136ebe584aba45e4b1fa66c80cba826d3e0e52fdd04ed44b4c66f6d3fe3584a057c26dfcac544a60b301e6d0f91c26\""
   ]
  },
  {
   "cell_type": "code",
   "execution_count": 3,
   "id": "90f335f4",
   "metadata": {},
   "outputs": [
    {
     "name": "stderr",
     "output_type": "stream",
     "text": [
      "cjdk: Installing Maven to /home/runner/.cache/cjdk\n"
     ]
    }
   ],
   "source": [
    "maven_dir = cjdk.cache_package(\"Maven\", maven_url, sha512=maven_sha512)"
   ]
  },
  {
   "cell_type": "markdown",
   "id": "9091d780",
   "metadata": {},
   "source": [
    "The Maven `.tar.gz` file has been extracted into `maven_dir`; find the `bin`\n",
    "directory within it:"
   ]
  },
  {
   "cell_type": "code",
   "execution_count": 4,
   "id": "0d187a4c",
   "metadata": {},
   "outputs": [],
   "source": [
    "maven_bin = list(maven_dir.glob(\"apache-maven-*\"))[0] / \"bin\"\n",
    "assert (maven_bin / \"mvn\").is_file()"
   ]
  },
  {
   "cell_type": "markdown",
   "id": "1577e6a0",
   "metadata": {},
   "source": [
    "Let's write a context manager that we can use to temporarily put the Maven\n",
    "`bin` directory on `PATH`."
   ]
  },
  {
   "cell_type": "code",
   "execution_count": 5,
   "id": "089269bd",
   "metadata": {},
   "outputs": [],
   "source": [
    "@contextmanager\n",
    "def path_prepended(path):\n",
    "    \"\"\"\n",
    "    Context manager to temporarily prepend the given path to PATH.\n",
    "    \"\"\"\n",
    "    save_path = os.environ.get(\"PATH\", \"\")\n",
    "    new_path = str(path) + os.pathsep + save_path\n",
    "    os.environ[\"PATH\"] = new_path\n",
    "    try:\n",
    "        yield\n",
    "    finally:\n",
    "        os.environ[\"PATH\"] = save_path"
   ]
  },
  {
   "cell_type": "markdown",
   "id": "a83acedb",
   "metadata": {},
   "source": [
    "Now for the magic: run a program by specifying its Maven coordinates.\n",
    "\n",
    "The JRE and all required Jars are downloaded (and cached) automatically."
   ]
  },
  {
   "cell_type": "code",
   "execution_count": 6,
   "id": "93554e99",
   "metadata": {},
   "outputs": [
    {
     "name": "stderr",
     "output_type": "stream",
     "text": [
      "cjdk: Installing JDK zulu-jre:8.0.332 to /home/runner/.cache/cjdk\n"
     ]
    },
    {
     "name": "stderr",
     "output_type": "stream",
     "text": [
      "INFO 2022-07-09 16:02:35,229: First time start-up may be slow. Downloaded dependencies will be cached for shorter start-up times in subsequent executions.\n"
     ]
    },
    {
     "name": "stdout",
     "output_type": "stream",
     "text": [
      "Checkstyle version: 9.3\n"
     ]
    }
   ],
   "source": [
    "with cjdk.java_env(vendor=\"zulu-jre\", version=\"8\"):\n",
    "    with path_prepended(maven_bin):\n",
    "        jgo.main_from_endpoint(\n",
    "            \"com.puppycrawl.tools:checkstyle:9.3\",\n",
    "            primary_endpoint_main_class=\"com.puppycrawl.tools.checkstyle.Main\",\n",
    "            argv=[\"--version\"],\n",
    "        )"
   ]
  }
 ],
 "metadata": {
  "jupytext": {
   "text_representation": {
    "extension": ".md",
    "format_name": "myst",
    "format_version": 0.13,
    "jupytext_version": "1.13.8"
   }
  },
  "kernelspec": {
   "display_name": "Python 3 (ipykernel)",
   "language": "python",
   "name": "python3"
  },
  "language_info": {
   "codemirror_mode": {
    "name": "ipython",
    "version": 3
   },
   "file_extension": ".py",
   "mimetype": "text/x-python",
   "name": "python",
   "nbconvert_exporter": "python",
   "pygments_lexer": "ipython3",
   "version": "3.10.5"
  },
  "source_map": [
   12,
   25,
   30,
   34,
   40,
   42,
   47,
   50,
   55,
   68,
   74
  ]
 },
 "nbformat": 4,
 "nbformat_minor": 5
}