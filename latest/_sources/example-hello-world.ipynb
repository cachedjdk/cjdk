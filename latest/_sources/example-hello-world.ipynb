{
 "cells": [
  {
   "cell_type": "markdown",
   "id": "4d26594b",
   "metadata": {},
   "source": [
    "<!--\n",
    "This file is part of cjdk.\n",
    "Copyright 2022, Board of Regents of the University of Wisconsin System\n",
    "SPDX-License-Identifier: MIT\n",
    "--->\n",
    "\n",
    "# Running Java \"Hello, World\" from Python\n",
    "\n",
    "This example shows how to compile and run Java code."
   ]
  },
  {
   "cell_type": "code",
   "execution_count": 1,
   "id": "a88e407e",
   "metadata": {},
   "outputs": [],
   "source": [
    "import cjdk\n",
    "import subprocess"
   ]
  },
  {
   "cell_type": "code",
   "execution_count": 2,
   "id": "28b7e9ba",
   "metadata": {},
   "outputs": [],
   "source": [
    "java_source = \"\"\"\n",
    "public class Hello {\n",
    "    public static void main(String[] args) {\n",
    "        System.out.println(\"Hello, World!\");\n",
    "    }\n",
    "}\n",
    "\"\"\""
   ]
  },
  {
   "cell_type": "code",
   "execution_count": 3,
   "id": "a8c7a560",
   "metadata": {},
   "outputs": [],
   "source": [
    "with open(\"Hello.java\", \"w\") as fp:\n",
    "    fp.write(java_source)"
   ]
  },
  {
   "cell_type": "code",
   "execution_count": 4,
   "id": "bb0c73ea",
   "metadata": {},
   "outputs": [
    {
     "name": "stdout",
     "output_type": "stream",
     "text": [
      "Hello, World!\n"
     ]
    }
   ],
   "source": [
    "with cjdk.java_env(vendor=\"temurin-jre\", version=\"17.0.3\"):\n",
    "    subprocess.run([\"javac\", \"Hello.java\"], check=True)\n",
    "    subprocess.run([\"java\", \"Hello\"], check=True)"
   ]
  }
 ],
 "metadata": {
  "jupytext": {
   "text_representation": {
    "extension": ".md",
    "format_name": "myst",
    "format_version": 0.13,
    "jupytext_version": "1.13.8"
   }
  },
  "kernelspec": {
   "display_name": "Python 3 (ipykernel)",
   "language": "python",
   "name": "python3"
  },
  "language_info": {
   "codemirror_mode": {
    "name": "ipython",
    "version": 3
   },
   "file_extension": ".py",
   "mimetype": "text/x-python",
   "name": "python",
   "nbconvert_exporter": "python",
   "pygments_lexer": "ipython3",
   "version": "3.10.5"
  },
  "source_map": [
   12,
   24,
   29,
   39,
   44
  ]
 },
 "nbformat": 4,
 "nbformat_minor": 5
}