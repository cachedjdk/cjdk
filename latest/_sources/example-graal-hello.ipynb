{
 "cells": [
  {
   "cell_type": "markdown",
   "id": "05630bb7",
   "metadata": {},
   "source": [
    "<!--\n",
    "This file is part of cjdk.\n",
    "Copyright 2022 Board of Regents of the University of Wisconsin System\n",
    "SPDX-License-Identifier: MIT\n",
    "--->\n",
    "\n",
    "# Building and running a GraalVM native image\n",
    "\n",
    "This example shows how to compile Java source code into a native image\n",
    "(executable that does not require the JVM) using GraalVM.\n",
    "\n",
    "Note that some platform-specific prerequisites must be installed for this to\n",
    "work; see the GraalVM\n",
    "[documentation](https://www.graalvm.org/22.1/reference-manual/native-image/#prerequisites)\n",
    "for details."
   ]
  },
  {
   "cell_type": "code",
   "execution_count": 1,
   "id": "798f493f",
   "metadata": {},
   "outputs": [],
   "source": [
    "import cjdk\n",
    "import subprocess"
   ]
  },
  {
   "cell_type": "code",
   "execution_count": 2,
   "id": "42e5647c",
   "metadata": {},
   "outputs": [],
   "source": [
    "java_source = \"\"\"\n",
    "public class Hello {\n",
    "    public static void main(String[] args) {\n",
    "        System.out.println(\"Hello, World!\");\n",
    "    }\n",
    "}\n",
    "\"\"\""
   ]
  },
  {
   "cell_type": "code",
   "execution_count": 3,
   "id": "5ece4f40",
   "metadata": {},
   "outputs": [],
   "source": [
    "with open(\"Hello.java\", \"w\") as fp:\n",
    "    fp.write(java_source)"
   ]
  },
  {
   "cell_type": "markdown",
   "id": "06c84ef5",
   "metadata": {},
   "source": [
    "Let's store the keyword arguments to `cjdk.java_env()` so that we can call it\n",
    "several times with the same configuration."
   ]
  },
  {
   "cell_type": "code",
   "execution_count": 4,
   "id": "200d24c9",
   "metadata": {},
   "outputs": [],
   "source": [
    "cjdk_config = dict(vendor=\"graalvm-java17\", version=\"22.1.0\")"
   ]
  },
  {
   "cell_type": "markdown",
   "id": "11419737",
   "metadata": {},
   "source": [
    "The GraalVM `native-image` command is not included in the default install, so\n",
    "we need to use `gu` (the GraalVM updater) to install it.\n",
    "\n",
    "(On macOS, you may see warnings related to `setrlimit` in this and following\n",
    "steps. They can be ignored.)"
   ]
  },
  {
   "cell_type": "code",
   "execution_count": 5,
   "id": "08843298",
   "metadata": {},
   "outputs": [
    {
     "name": "stderr",
     "output_type": "stream",
     "text": [
      "cjdk: Installing JDK graalvm-java17:22.1.0 to /home/runner/.cache/cjdk\n"
     ]
    },
    {
     "name": "stdout",
     "output_type": "stream",
     "text": [
      "Downloading: Component catalog from www.graalvm.org\n"
     ]
    },
    {
     "name": "stdout",
     "output_type": "stream",
     "text": [
      "Processing Component: Native Image\n",
      "Downloading: Component native-image: Native Image from github.com\n"
     ]
    },
    {
     "name": "stdout",
     "output_type": "stream",
     "text": [
      "Installing new component: Native Image (org.graalvm.native-image, version 22.1.0)\n"
     ]
    }
   ],
   "source": [
    "with cjdk.java_env(**cjdk_config):\n",
    "    subprocess.run(\n",
    "        [\"gu\", \"install\", \"--no-progress\", \"native-image\"], check=True\n",
    "    )"
   ]
  },
  {
   "cell_type": "markdown",
   "id": "f1508ca3",
   "metadata": {},
   "source": [
    "Now let's compile the source, first with `javac` to byte code, then to a native\n",
    "image."
   ]
  },
  {
   "cell_type": "code",
   "execution_count": 6,
   "id": "980256c7",
   "metadata": {},
   "outputs": [
    {
     "name": "stdout",
     "output_type": "stream",
     "text": [
      "========================================================================================================================\n",
      "GraalVM Native Image: Generating 'hello' (executable)...\n",
      "========================================================================================================================\n"
     ]
    },
    {
     "name": "stdout",
     "output_type": "stream",
     "text": [
      "[1/7] Initializing...                                                                                    (7.7s @ 0.19GB)\n",
      " Version info: 'GraalVM 22.1.0 Java 17 CE'\n",
      " C compiler: gcc (linux, x86_64, 9.4.0)\n",
      " Garbage collector: Serial GC\n"
     ]
    },
    {
     "name": "stdout",
     "output_type": "stream",
     "text": [
      "[2/7] Performing analysis...  [******]                                                                  (26.1s @ 0.69GB)\n",
      "   2,852 (74.23%) of  3,842 classes reachable\n",
      "   3,399 (50.83%) of  6,687 fields reachable\n",
      "  12,932 (44.57%) of 29,016 methods reachable\n",
      "      27 classes,     0 fields, and   345 methods registered for reflection\n",
      "      57 classes,    58 fields, and    51 methods registered for JNI access\n"
     ]
    },
    {
     "name": "stdout",
     "output_type": "stream",
     "text": [
      "[3/7] Building universe...                                                                               (2.1s @ 0.89GB)\n"
     ]
    },
    {
     "name": "stdout",
     "output_type": "stream",
     "text": [
      "[4/7] Parsing methods...      [**]                                                                       (2.0s @ 1.15GB)\n"
     ]
    },
    {
     "name": "stdout",
     "output_type": "stream",
     "text": [
      "[5/7] Inlining methods...     [****]                                                                     (3.0s @ 0.71GB)\n"
     ]
    },
    {
     "name": "stdout",
     "output_type": "stream",
     "text": [
      "[6/7] Compiling methods...    [*****]                                                                   (22.0s @ 1.23GB)\n"
     ]
    },
    {
     "name": "stdout",
     "output_type": "stream",
     "text": [
      "[7/7] Creating image...                                                                                  (2.1s @ 1.52GB)\n",
      "   4.41MB (35.36%) for code area:    7,591 compilation units\n",
      "   6.97MB (55.89%) for image heap:   1,711 classes and 102,357 objects\n",
      "   1.09MB ( 8.75%) for other data\n",
      "  12.47MB in total\n",
      "------------------------------------------------------------------------------------------------------------------------\n",
      "Top 10 packages in code area:                               Top 10 object types in image heap:\n",
      " 666.57KB java.util                                         1014.06KB byte[] for general heap data\n",
      " 338.23KB java.lang                                          984.94KB java.lang.String\n",
      " 274.64KB java.text                                          944.58KB byte[] for code metadata\n",
      " 235.70KB java.util.regex                                    645.59KB java.lang.Class\n",
      " 194.32KB com.oracle.svm.jni                                 572.10KB byte[] for java.lang.String\n",
      " 193.16KB java.util.concurrent                               474.56KB java.util.HashMap$Node\n",
      " 157.78KB com.oracle.svm.core.reflect                        222.81KB com.oracle.svm.core.hub.DynamicHubCompanion\n",
      " 147.39KB java.math                                          201.63KB java.lang.String[]\n",
      "  98.45KB java.util.logging                                  197.61KB java.util.HashMap$Node[]\n",
      "  94.89KB com.oracle.svm.core.genscavenge                    155.91KB java.util.concurrent.ConcurrentHashMap$Node\n",
      "      ... 119 additional packages                                 ... 778 additional object types\n",
      "                                           (use GraalVM Dashboard to see all)\n",
      "------------------------------------------------------------------------------------------------------------------------\n",
      "                        3.6s (5.3% of total time) in 18 GCs | Peak RSS: 2.64GB | CPU load: 1.94\n",
      "------------------------------------------------------------------------------------------------------------------------\n",
      "Produced artifacts:\n",
      " /tmp/tmpp0yql6n5/hello (executable)\n",
      " /tmp/tmpp0yql6n5/hello.build_artifacts.txt\n",
      "========================================================================================================================\n",
      "Finished generating 'hello' in 1m 6s.\n"
     ]
    }
   ],
   "source": [
    "with cjdk.java_env(**cjdk_config):\n",
    "    subprocess.run([\"javac\", \"Hello.java\"], check=True)\n",
    "    subprocess.run([\"native-image\", \"Hello\"], check=True)"
   ]
  },
  {
   "cell_type": "markdown",
   "id": "33d74438",
   "metadata": {},
   "source": [
    "Finally, let's run the native image. Being a native image, it does not need\n",
    "`java_env()` to run:"
   ]
  },
  {
   "cell_type": "code",
   "execution_count": 7,
   "id": "35161ee6",
   "metadata": {},
   "outputs": [
    {
     "name": "stdout",
     "output_type": "stream",
     "text": [
      "Hello, World!\n"
     ]
    }
   ],
   "source": [
    "r = subprocess.run([\"./hello\"], check=True)"
   ]
  },
  {
   "cell_type": "code",
   "execution_count": 8,
   "id": "d4cd9015",
   "metadata": {},
   "outputs": [
    {
     "data": {
      "text/plain": [
       "0"
      ]
     },
     "execution_count": 8,
     "metadata": {},
     "output_type": "execute_result"
    }
   ],
   "source": [
    "r.returncode"
   ]
  }
 ],
 "metadata": {
  "jupytext": {
   "text_representation": {
    "extension": ".md",
    "format_name": "myst",
    "format_version": 0.13,
    "jupytext_version": "1.13.8"
   }
  },
  "kernelspec": {
   "display_name": "Python 3 (ipykernel)",
   "language": "python",
   "name": "python3"
  },
  "language_info": {
   "codemirror_mode": {
    "name": "ipython",
    "version": 3
   },
   "file_extension": ".py",
   "mimetype": "text/x-python",
   "name": "python",
   "nbconvert_exporter": "python",
   "pygments_lexer": "ipython3",
   "version": "3.10.5"
  },
  "source_map": [
   12,
   30,
   35,
   45,
   48,
   53,
   55,
   63,
   68,
   73,
   77,
   82,
   86
  ]
 },
 "nbformat": 4,
 "nbformat_minor": 5
}